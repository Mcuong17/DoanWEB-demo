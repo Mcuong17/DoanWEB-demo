{
  "cells": [
    {
      "cell_type": "markdown",
      "metadata": {
        "id": "view-in-github",
        "colab_type": "text"
      },
      "source": [
        "<a href=\"https://colab.research.google.com/github/Mcuong17/DoanWEB-demo/blob/main/Airline_Time_.ipynb\" target=\"_parent\"><img src=\"https://colab.research.google.com/assets/colab-badge.svg\" alt=\"Open In Colab\"/></a>"
      ]
    },
    {
      "cell_type": "markdown",
      "source": [
        "# Giới thiệu topic\n",
        "Đối mặt với sự chậm trễ của các chuyến bay luôn là một điều rất phiền toái với khách hang bởi vì điều đó là điều họ không thể dự đoán hay lường trước rằng việc delay chuyến bay sẽ xảy ra. Việc chậm trễ khi bay có thể dẫn đến lãng phí thời gian và có thể làm xáo trộn lịch bay của chuyến bay tiếp theo. Do đó bài phân tích này nhằm mục đích kiểm tra các dữ liệu của các chuyến bay và tìm hiểu các dạng chậm trễ của chuyến bay, giúp khách hang có thể dự đoán được sự chậm trễ đó xảy ra như thế nào."
      ],
      "metadata": {
        "id": "-nVB7rP6xsQi"
      },
      "id": "-nVB7rP6xsQi"
    },
    {
      "cell_type": "markdown",
      "source": [
        "# Data Pre Processing( Tiền xử lý dữ liệu)\n",
        "Đầu tiên chúng ta sẽ thêm các thư viện cần dùng\n",
        "Những thư viện được sử dụng đó là:\n",
        "1.   Numpy: được sử dụng cho các hàm tính toán, xử lý các mảng dữ liệu numberic\n",
        "2.   Pandas: Được sử dụng để xử lý các vấn đề liên quan đến dữ liệu, dataset...\n",
        "3.    Matplotlib và Seaborn: Được sử dụng cho việc trực quan hóa dữ liệu\n",
        "4.    Sklearn: Tạo mô hình và chứa một số chức năng tiền xử lý dữ liệu hữu ích\n",
        "\n"
      ],
      "metadata": {
        "id": "zxHB1LZ2yn22"
      },
      "id": "zxHB1LZ2yn22"
    },
    {
      "cell_type": "code",
      "execution_count": 2,
      "id": "8de5691d",
      "metadata": {
        "id": "8de5691d"
      },
      "outputs": [],
      "source": [
        "import numpy as np\n",
        "import pandas as pd\n",
        "from sklearn.model_selection import train_test_split\n",
        "from sklearn.preprocessing import StandardScaler\n",
        "from sklearn.ensemble import RandomForestClassifier\n",
        "from sklearn.metrics import plot_confusion_matrix, accuracy_score\n",
        "import seaborn as sns\n",
        "import matplotlib.pyplot as plt\n",
        "%matplotlib inline"
      ]
    },
    {
      "cell_type": "code",
      "source": [
        "from google.colab import drive\n",
        "drive.mount('/content/gdrive')"
      ],
      "metadata": {
        "colab": {
          "base_uri": "https://localhost:8080/"
        },
        "id": "QdYhzPkE7Fv_",
        "outputId": "a72e8e93-6a8e-48fc-8830-6d9f6382e67f"
      },
      "id": "QdYhzPkE7Fv_",
      "execution_count": 1,
      "outputs": [
        {
          "output_type": "stream",
          "name": "stdout",
          "text": [
            "Mounted at /content/gdrive\n"
          ]
        }
      ]
    },
    {
      "cell_type": "markdown",
      "source": [
        "## Load dataframe"
      ],
      "metadata": {
        "id": "RHKs-d6n1sx3"
      },
      "id": "RHKs-d6n1sx3"
    },
    {
      "cell_type": "code",
      "execution_count": 3,
      "id": "1b85a560",
      "metadata": {
        "colab": {
          "base_uri": "https://localhost:8080/",
          "height": 300
        },
        "id": "1b85a560",
        "outputId": "8795e249-346f-41be-9b99-cec543089fec"
      },
      "outputs": [
        {
          "output_type": "execute_result",
          "data": {
            "text/plain": [
              "   Year  Month  DayofMonth  DayOfWeek  DepTime  CRSDepTime  ArrTime  \\\n",
              "0  1999      1          27          3   1906.0        1908   2024.0   \n",
              "1  1999      1          28          4   2016.0        1908   2126.0   \n",
              "2  1999      1          29          5   1907.0        1908   2000.0   \n",
              "3  1999      1          31          7   1932.0        1908   2031.0   \n",
              "4  1999      1           1          5   1601.0        1535   1707.0   \n",
              "\n",
              "   CRSArrTime UniqueCarrier  FlightNum  ... TaxiIn  TaxiOut  Cancelled  \\\n",
              "0        2005            US       1244  ...      3        9          0   \n",
              "1        2005            US       1244  ...     19       10          0   \n",
              "2        2005            US       1244  ...      2        8          0   \n",
              "3        2005            US       1244  ...      6        8          0   \n",
              "4        1645            US        297  ...     11        8          0   \n",
              "\n",
              "   CancellationCode  Diverted  CarrierDelay WeatherDelay NASDelay  \\\n",
              "0               NaN         0           NaN          NaN      NaN   \n",
              "1               NaN         0           NaN          NaN      NaN   \n",
              "2               NaN         0           NaN          NaN      NaN   \n",
              "3               NaN         0           NaN          NaN      NaN   \n",
              "4               NaN         0           NaN          NaN      NaN   \n",
              "\n",
              "   SecurityDelay  LateAircraftDelay  \n",
              "0            NaN                NaN  \n",
              "1            NaN                NaN  \n",
              "2            NaN                NaN  \n",
              "3            NaN                NaN  \n",
              "4            NaN                NaN  \n",
              "\n",
              "[5 rows x 29 columns]"
            ],
            "text/html": [
              "\n",
              "  <div id=\"df-c0bf271e-6fa4-4634-a442-a1e187199547\">\n",
              "    <div class=\"colab-df-container\">\n",
              "      <div>\n",
              "<style scoped>\n",
              "    .dataframe tbody tr th:only-of-type {\n",
              "        vertical-align: middle;\n",
              "    }\n",
              "\n",
              "    .dataframe tbody tr th {\n",
              "        vertical-align: top;\n",
              "    }\n",
              "\n",
              "    .dataframe thead th {\n",
              "        text-align: right;\n",
              "    }\n",
              "</style>\n",
              "<table border=\"1\" class=\"dataframe\">\n",
              "  <thead>\n",
              "    <tr style=\"text-align: right;\">\n",
              "      <th></th>\n",
              "      <th>Year</th>\n",
              "      <th>Month</th>\n",
              "      <th>DayofMonth</th>\n",
              "      <th>DayOfWeek</th>\n",
              "      <th>DepTime</th>\n",
              "      <th>CRSDepTime</th>\n",
              "      <th>ArrTime</th>\n",
              "      <th>CRSArrTime</th>\n",
              "      <th>UniqueCarrier</th>\n",
              "      <th>FlightNum</th>\n",
              "      <th>...</th>\n",
              "      <th>TaxiIn</th>\n",
              "      <th>TaxiOut</th>\n",
              "      <th>Cancelled</th>\n",
              "      <th>CancellationCode</th>\n",
              "      <th>Diverted</th>\n",
              "      <th>CarrierDelay</th>\n",
              "      <th>WeatherDelay</th>\n",
              "      <th>NASDelay</th>\n",
              "      <th>SecurityDelay</th>\n",
              "      <th>LateAircraftDelay</th>\n",
              "    </tr>\n",
              "  </thead>\n",
              "  <tbody>\n",
              "    <tr>\n",
              "      <th>0</th>\n",
              "      <td>1999</td>\n",
              "      <td>1</td>\n",
              "      <td>27</td>\n",
              "      <td>3</td>\n",
              "      <td>1906.0</td>\n",
              "      <td>1908</td>\n",
              "      <td>2024.0</td>\n",
              "      <td>2005</td>\n",
              "      <td>US</td>\n",
              "      <td>1244</td>\n",
              "      <td>...</td>\n",
              "      <td>3</td>\n",
              "      <td>9</td>\n",
              "      <td>0</td>\n",
              "      <td>NaN</td>\n",
              "      <td>0</td>\n",
              "      <td>NaN</td>\n",
              "      <td>NaN</td>\n",
              "      <td>NaN</td>\n",
              "      <td>NaN</td>\n",
              "      <td>NaN</td>\n",
              "    </tr>\n",
              "    <tr>\n",
              "      <th>1</th>\n",
              "      <td>1999</td>\n",
              "      <td>1</td>\n",
              "      <td>28</td>\n",
              "      <td>4</td>\n",
              "      <td>2016.0</td>\n",
              "      <td>1908</td>\n",
              "      <td>2126.0</td>\n",
              "      <td>2005</td>\n",
              "      <td>US</td>\n",
              "      <td>1244</td>\n",
              "      <td>...</td>\n",
              "      <td>19</td>\n",
              "      <td>10</td>\n",
              "      <td>0</td>\n",
              "      <td>NaN</td>\n",
              "      <td>0</td>\n",
              "      <td>NaN</td>\n",
              "      <td>NaN</td>\n",
              "      <td>NaN</td>\n",
              "      <td>NaN</td>\n",
              "      <td>NaN</td>\n",
              "    </tr>\n",
              "    <tr>\n",
              "      <th>2</th>\n",
              "      <td>1999</td>\n",
              "      <td>1</td>\n",
              "      <td>29</td>\n",
              "      <td>5</td>\n",
              "      <td>1907.0</td>\n",
              "      <td>1908</td>\n",
              "      <td>2000.0</td>\n",
              "      <td>2005</td>\n",
              "      <td>US</td>\n",
              "      <td>1244</td>\n",
              "      <td>...</td>\n",
              "      <td>2</td>\n",
              "      <td>8</td>\n",
              "      <td>0</td>\n",
              "      <td>NaN</td>\n",
              "      <td>0</td>\n",
              "      <td>NaN</td>\n",
              "      <td>NaN</td>\n",
              "      <td>NaN</td>\n",
              "      <td>NaN</td>\n",
              "      <td>NaN</td>\n",
              "    </tr>\n",
              "    <tr>\n",
              "      <th>3</th>\n",
              "      <td>1999</td>\n",
              "      <td>1</td>\n",
              "      <td>31</td>\n",
              "      <td>7</td>\n",
              "      <td>1932.0</td>\n",
              "      <td>1908</td>\n",
              "      <td>2031.0</td>\n",
              "      <td>2005</td>\n",
              "      <td>US</td>\n",
              "      <td>1244</td>\n",
              "      <td>...</td>\n",
              "      <td>6</td>\n",
              "      <td>8</td>\n",
              "      <td>0</td>\n",
              "      <td>NaN</td>\n",
              "      <td>0</td>\n",
              "      <td>NaN</td>\n",
              "      <td>NaN</td>\n",
              "      <td>NaN</td>\n",
              "      <td>NaN</td>\n",
              "      <td>NaN</td>\n",
              "    </tr>\n",
              "    <tr>\n",
              "      <th>4</th>\n",
              "      <td>1999</td>\n",
              "      <td>1</td>\n",
              "      <td>1</td>\n",
              "      <td>5</td>\n",
              "      <td>1601.0</td>\n",
              "      <td>1535</td>\n",
              "      <td>1707.0</td>\n",
              "      <td>1645</td>\n",
              "      <td>US</td>\n",
              "      <td>297</td>\n",
              "      <td>...</td>\n",
              "      <td>11</td>\n",
              "      <td>8</td>\n",
              "      <td>0</td>\n",
              "      <td>NaN</td>\n",
              "      <td>0</td>\n",
              "      <td>NaN</td>\n",
              "      <td>NaN</td>\n",
              "      <td>NaN</td>\n",
              "      <td>NaN</td>\n",
              "      <td>NaN</td>\n",
              "    </tr>\n",
              "  </tbody>\n",
              "</table>\n",
              "<p>5 rows × 29 columns</p>\n",
              "</div>\n",
              "      <button class=\"colab-df-convert\" onclick=\"convertToInteractive('df-c0bf271e-6fa4-4634-a442-a1e187199547')\"\n",
              "              title=\"Convert this dataframe to an interactive table.\"\n",
              "              style=\"display:none;\">\n",
              "        \n",
              "  <svg xmlns=\"http://www.w3.org/2000/svg\" height=\"24px\"viewBox=\"0 0 24 24\"\n",
              "       width=\"24px\">\n",
              "    <path d=\"M0 0h24v24H0V0z\" fill=\"none\"/>\n",
              "    <path d=\"M18.56 5.44l.94 2.06.94-2.06 2.06-.94-2.06-.94-.94-2.06-.94 2.06-2.06.94zm-11 1L8.5 8.5l.94-2.06 2.06-.94-2.06-.94L8.5 2.5l-.94 2.06-2.06.94zm10 10l.94 2.06.94-2.06 2.06-.94-2.06-.94-.94-2.06-.94 2.06-2.06.94z\"/><path d=\"M17.41 7.96l-1.37-1.37c-.4-.4-.92-.59-1.43-.59-.52 0-1.04.2-1.43.59L10.3 9.45l-7.72 7.72c-.78.78-.78 2.05 0 2.83L4 21.41c.39.39.9.59 1.41.59.51 0 1.02-.2 1.41-.59l7.78-7.78 2.81-2.81c.8-.78.8-2.07 0-2.86zM5.41 20L4 18.59l7.72-7.72 1.47 1.35L5.41 20z\"/>\n",
              "  </svg>\n",
              "      </button>\n",
              "      \n",
              "  <style>\n",
              "    .colab-df-container {\n",
              "      display:flex;\n",
              "      flex-wrap:wrap;\n",
              "      gap: 12px;\n",
              "    }\n",
              "\n",
              "    .colab-df-convert {\n",
              "      background-color: #E8F0FE;\n",
              "      border: none;\n",
              "      border-radius: 50%;\n",
              "      cursor: pointer;\n",
              "      display: none;\n",
              "      fill: #1967D2;\n",
              "      height: 32px;\n",
              "      padding: 0 0 0 0;\n",
              "      width: 32px;\n",
              "    }\n",
              "\n",
              "    .colab-df-convert:hover {\n",
              "      background-color: #E2EBFA;\n",
              "      box-shadow: 0px 1px 2px rgba(60, 64, 67, 0.3), 0px 1px 3px 1px rgba(60, 64, 67, 0.15);\n",
              "      fill: #174EA6;\n",
              "    }\n",
              "\n",
              "    [theme=dark] .colab-df-convert {\n",
              "      background-color: #3B4455;\n",
              "      fill: #D2E3FC;\n",
              "    }\n",
              "\n",
              "    [theme=dark] .colab-df-convert:hover {\n",
              "      background-color: #434B5C;\n",
              "      box-shadow: 0px 1px 3px 1px rgba(0, 0, 0, 0.15);\n",
              "      filter: drop-shadow(0px 1px 2px rgba(0, 0, 0, 0.3));\n",
              "      fill: #FFFFFF;\n",
              "    }\n",
              "  </style>\n",
              "\n",
              "      <script>\n",
              "        const buttonEl =\n",
              "          document.querySelector('#df-c0bf271e-6fa4-4634-a442-a1e187199547 button.colab-df-convert');\n",
              "        buttonEl.style.display =\n",
              "          google.colab.kernel.accessAllowed ? 'block' : 'none';\n",
              "\n",
              "        async function convertToInteractive(key) {\n",
              "          const element = document.querySelector('#df-c0bf271e-6fa4-4634-a442-a1e187199547');\n",
              "          const dataTable =\n",
              "            await google.colab.kernel.invokeFunction('convertToInteractive',\n",
              "                                                     [key], {});\n",
              "          if (!dataTable) return;\n",
              "\n",
              "          const docLinkHtml = 'Like what you see? Visit the ' +\n",
              "            '<a target=\"_blank\" href=https://colab.research.google.com/notebooks/data_table.ipynb>data table notebook</a>'\n",
              "            + ' to learn more about interactive tables.';\n",
              "          element.innerHTML = '';\n",
              "          dataTable['output_type'] = 'display_data';\n",
              "          await google.colab.output.renderOutput(dataTable, element);\n",
              "          const docLink = document.createElement('div');\n",
              "          docLink.innerHTML = docLinkHtml;\n",
              "          element.appendChild(docLink);\n",
              "        }\n",
              "      </script>\n",
              "    </div>\n",
              "  </div>\n",
              "  "
            ]
          },
          "metadata": {},
          "execution_count": 3
        }
      ],
      "source": [
        "\n",
        "df1 = pd.read_csv(\"/content/gdrive/MyDrive/Dataset/1999.csv\")\n",
        "df1.head(5)"
      ]
    },
    {
      "cell_type": "code",
      "execution_count": 16,
      "id": "7610fa3f",
      "metadata": {
        "id": "7610fa3f"
      },
      "outputs": [],
      "source": [
        "df2 = pd.read_csv(\"/content/gdrive/MyDrive/Dataset/2000.csv\")"
      ]
    },
    {
      "cell_type": "code",
      "source": [
        "df = pd.concat([df1, df2])"
      ],
      "metadata": {
        "id": "JXpg7sdLwQeo"
      },
      "id": "JXpg7sdLwQeo",
      "execution_count": 17,
      "outputs": []
    },
    {
      "cell_type": "markdown",
      "source": [
        "## Tổng quan về dataframe, tên các cột và kích thước của df"
      ],
      "metadata": {
        "id": "ooZMjuuK1-32"
      },
      "id": "ooZMjuuK1-32"
    },
    {
      "cell_type": "code",
      "source": [
        "df.columns"
      ],
      "metadata": {
        "colab": {
          "base_uri": "https://localhost:8080/"
        },
        "id": "UhIW94gjwpVe",
        "outputId": "18c32d8d-50b9-4f6e-d2ac-176106699bde"
      },
      "id": "UhIW94gjwpVe",
      "execution_count": null,
      "outputs": [
        {
          "output_type": "execute_result",
          "data": {
            "text/plain": [
              "Index(['Year', 'Month', 'DayofMonth', 'DayOfWeek', 'DepTime', 'CRSDepTime',\n",
              "       'ArrTime', 'CRSArrTime', 'UniqueCarrier', 'FlightNum', 'TailNum',\n",
              "       'ActualElapsedTime', 'CRSElapsedTime', 'AirTime', 'ArrDelay',\n",
              "       'DepDelay', 'Origin', 'Dest', 'Distance', 'TaxiIn', 'TaxiOut',\n",
              "       'Cancelled', 'CancellationCode', 'Diverted', 'CarrierDelay',\n",
              "       'WeatherDelay', 'NASDelay', 'SecurityDelay', 'LateAircraftDelay'],\n",
              "      dtype='object')"
            ]
          },
          "metadata": {},
          "execution_count": 9
        }
      ]
    },
    {
      "cell_type": "markdown",
      "source": [
        "Dựa vào dữ liệu đã cung cấp: Dataset bao gồm hơn 11 triệu observation về chuyến bay với 29 cột:\n",
        "*   **Year [int]:** Bao gồm thông tin về năm(1999&2000)\n",
        "*   **Month [int]:** Thông tin về tháng(1 - Jan, 2 - Feb..)\n",
        "*   **DayofMonth [int]**: Ngày trong tháng(1-31, nếu có)\n",
        "*   **DayOfWeek [int]**: Ngày trong tuần(1 - Mon, 2 - Tue..)\n",
        "*   **DepTime [int]**: Thời gian khởi hành thực tế(theo múi giờ địa phương)\n",
        "*   **CRSDepTime [int]**: Thời gian khởi hành theo lịch trình(theo múi giờ địa phương)\n",
        "*   **ArrTime [int]**: Thời gian thực tế(theo múi giờ địa phương)\n",
        "*   **UniqueCarrier [int]**: Mã nhà cung cấp dịch vụ để xác định các nhà cung cấp dịch vụ trong file carriers.csv\n",
        "*   **FlightNum [int]**: Số chuyến bay\n",
        "*   **TailNum [str]**: Số hiệu trên đuôi máy bay có trong file plane-data.csv\n",
        "*   **ActualElapsedTime [int]**: Sự khác biệt giữa ArrTime và DepTime trong vài phút, đồng thời cũng là tổng của AirTime, TaxiIn, TaxiOut\n",
        "*   **CRSElapsedTime [int]**:  Sự khác biệt giữa CRSArrTime và CRSDepTime trong vài phút\n",
        "*   ** ArrDelay [int]:**Sự khác biệt giữa ArrTime và CRSArrTime trong vài phút\n",
        "*    **DepDelay [int]**: Sự khác biệt giữa DepTime and CRSDepTime trong vài phút\n",
        "*    **Origin [str]**: Sử dụng để xác định mã sân bay IATA mà chuyến bay đã khởi hành trong file airports.csv\n",
        "*    **Dest [str]**: Sử dụng để xác định mã sân bay IATA mà chuyến bay đã khởi hành trong file airports.csv\n",
        "*    **Distance [int]**: Khoảng cách bay( tính bằng dặm)\n",
        "*    **TaxiIn [int]**: Thời gian taxi đến tính bằng phút\n",
        "*    **TaxiOut [int]**: Thời gian taxi trả tính bằng phút\n",
        "*    **Cancelled [int]**: Hủy chuyến bay(1 - bị hủy, 0 - Không bị hủy)\n",
        "*    **CancellationCode [str]**: Lý do hủy chuyến bay ( A - Hãng vận chuyển, B - Thời tiết, C - Hệ thống hàng không quốc gia, D - An ninh)\n",
        "*   ** Diverted [int]**: chuyển hướng( 1 - Chuyển hướng, 0 - không chuyển hướng)\n",
        "*   **WeatherDelay [int]**: Sự chậm trễ ảnh hưởng do thời tiết tính bằng phút\n",
        "*   **NASDelay [int]**: Sự chậm trễ ảnh hưởng do hệ thống hàng không quốc gia gây ra trong vài phút\n",
        "*  ** LateAircraftDelay [int]**: Sự chậm trể ảnh hưởng bởi chuyến bay trước cũng bị muộn\n",
        "\n",
        "-  Dựa trên các cột, có 3 taajo dữ liệu bổ sung cần thêm vào như sau:\n",
        "*   **airports.csv**: Chứa thông tin về các chuyến bay khởi hành và chuyến bay đến\n",
        "*   **carriers.csv:** Chứa thông tin về hãng bay\n",
        "*   **plane-data.csv**: Chứa thông tin về máy bay\n"
      ],
      "metadata": {
        "id": "kqWodG732hVb"
      },
      "id": "kqWodG732hVb"
    },
    {
      "cell_type": "code",
      "source": [
        "airport_df = pd.read_csv(\"/content/gdrive/MyDrive/Dataset/airports.csv\")\n",
        "carriers_df = pd.read_csv(\"/content/gdrive/MyDrive/Dataset/carriers.csv\")\n",
        "plane_df = pd.read_csv(\"/content/gdrive/MyDrive/Dataset/plane-data.csv\")"
      ],
      "metadata": {
        "id": "7_gylVtUG2zQ"
      },
      "id": "7_gylVtUG2zQ",
      "execution_count": 9,
      "outputs": []
    },
    {
      "cell_type": "markdown",
      "source": [
        "  Tên cột và hình dạng bảng dữ liệu"
      ],
      "metadata": {
        "id": "LJEdyqZUIE4L"
      },
      "id": "LJEdyqZUIE4L"
    },
    {
      "cell_type": "code",
      "source": [
        "airport_df.columns, airport_df.shape"
      ],
      "metadata": {
        "colab": {
          "base_uri": "https://localhost:8080/"
        },
        "id": "8oXWa6cUJdPF",
        "outputId": "40df46f3-da84-488a-bd65-f97651c42feb"
      },
      "id": "8oXWa6cUJdPF",
      "execution_count": null,
      "outputs": [
        {
          "output_type": "execute_result",
          "data": {
            "text/plain": [
              "(Index(['iata', 'airport', 'city', 'state', 'country', 'lat', 'long'], dtype='object'),\n",
              " (3376, 7))"
            ]
          },
          "metadata": {},
          "execution_count": 15
        }
      ]
    },
    {
      "cell_type": "code",
      "source": [
        "carriers_df.columns, cariers_df.shape"
      ],
      "metadata": {
        "colab": {
          "base_uri": "https://localhost:8080/"
        },
        "id": "A2u4T5khcQN4",
        "outputId": "a765d1c2-4f98-43e1-fd6e-23e0999f2b41"
      },
      "id": "A2u4T5khcQN4",
      "execution_count": 10,
      "outputs": [
        {
          "output_type": "execute_result",
          "data": {
            "text/plain": [
              "(Index(['Code', 'Description'], dtype='object'), (1491, 2))"
            ]
          },
          "metadata": {},
          "execution_count": 10
        }
      ]
    },
    {
      "cell_type": "code",
      "source": [
        "plane_df.columns, plane_df.shape"
      ],
      "metadata": {
        "id": "WbQS9jiK-XoD",
        "outputId": "0bc37b2c-1a3a-492f-ede1-a7ac20a821ca",
        "colab": {
          "base_uri": "https://localhost:8080/"
        }
      },
      "id": "WbQS9jiK-XoD",
      "execution_count": 6,
      "outputs": [
        {
          "output_type": "execute_result",
          "data": {
            "text/plain": [
              "(Index(['tailnum', 'type', 'manufacturer', 'issue_date', 'model', 'status',\n",
              "        'aircraft_type', 'engine_type', 'year'],\n",
              "       dtype='object'), (5029, 9))"
            ]
          },
          "metadata": {},
          "execution_count": 6
        }
      ]
    },
    {
      "cell_type": "code",
      "source": [
        "airport_df.head()"
      ],
      "metadata": {
        "id": "HJjBfL8CAK9m",
        "outputId": "1cde9a60-afd6-421c-be64-4202d35fb435",
        "colab": {
          "base_uri": "https://localhost:8080/",
          "height": 206
        }
      },
      "id": "HJjBfL8CAK9m",
      "execution_count": 7,
      "outputs": [
        {
          "output_type": "execute_result",
          "data": {
            "text/plain": [
              "  iata               airport              city state country        lat  \\\n",
              "0  00M              Thigpen        Bay Springs    MS     USA  31.953765   \n",
              "1  00R  Livingston Municipal        Livingston    TX     USA  30.685861   \n",
              "2  00V           Meadow Lake  Colorado Springs    CO     USA  38.945749   \n",
              "3  01G          Perry-Warsaw             Perry    NY     USA  42.741347   \n",
              "4  01J      Hilliard Airpark          Hilliard    FL     USA  30.688012   \n",
              "\n",
              "         long  \n",
              "0  -89.234505  \n",
              "1  -95.017928  \n",
              "2 -104.569893  \n",
              "3  -78.052081  \n",
              "4  -81.905944  "
            ],
            "text/html": [
              "\n",
              "  <div id=\"df-7fe1484e-f342-4f7c-b2c9-b4c87b6d3836\">\n",
              "    <div class=\"colab-df-container\">\n",
              "      <div>\n",
              "<style scoped>\n",
              "    .dataframe tbody tr th:only-of-type {\n",
              "        vertical-align: middle;\n",
              "    }\n",
              "\n",
              "    .dataframe tbody tr th {\n",
              "        vertical-align: top;\n",
              "    }\n",
              "\n",
              "    .dataframe thead th {\n",
              "        text-align: right;\n",
              "    }\n",
              "</style>\n",
              "<table border=\"1\" class=\"dataframe\">\n",
              "  <thead>\n",
              "    <tr style=\"text-align: right;\">\n",
              "      <th></th>\n",
              "      <th>iata</th>\n",
              "      <th>airport</th>\n",
              "      <th>city</th>\n",
              "      <th>state</th>\n",
              "      <th>country</th>\n",
              "      <th>lat</th>\n",
              "      <th>long</th>\n",
              "    </tr>\n",
              "  </thead>\n",
              "  <tbody>\n",
              "    <tr>\n",
              "      <th>0</th>\n",
              "      <td>00M</td>\n",
              "      <td>Thigpen</td>\n",
              "      <td>Bay Springs</td>\n",
              "      <td>MS</td>\n",
              "      <td>USA</td>\n",
              "      <td>31.953765</td>\n",
              "      <td>-89.234505</td>\n",
              "    </tr>\n",
              "    <tr>\n",
              "      <th>1</th>\n",
              "      <td>00R</td>\n",
              "      <td>Livingston Municipal</td>\n",
              "      <td>Livingston</td>\n",
              "      <td>TX</td>\n",
              "      <td>USA</td>\n",
              "      <td>30.685861</td>\n",
              "      <td>-95.017928</td>\n",
              "    </tr>\n",
              "    <tr>\n",
              "      <th>2</th>\n",
              "      <td>00V</td>\n",
              "      <td>Meadow Lake</td>\n",
              "      <td>Colorado Springs</td>\n",
              "      <td>CO</td>\n",
              "      <td>USA</td>\n",
              "      <td>38.945749</td>\n",
              "      <td>-104.569893</td>\n",
              "    </tr>\n",
              "    <tr>\n",
              "      <th>3</th>\n",
              "      <td>01G</td>\n",
              "      <td>Perry-Warsaw</td>\n",
              "      <td>Perry</td>\n",
              "      <td>NY</td>\n",
              "      <td>USA</td>\n",
              "      <td>42.741347</td>\n",
              "      <td>-78.052081</td>\n",
              "    </tr>\n",
              "    <tr>\n",
              "      <th>4</th>\n",
              "      <td>01J</td>\n",
              "      <td>Hilliard Airpark</td>\n",
              "      <td>Hilliard</td>\n",
              "      <td>FL</td>\n",
              "      <td>USA</td>\n",
              "      <td>30.688012</td>\n",
              "      <td>-81.905944</td>\n",
              "    </tr>\n",
              "  </tbody>\n",
              "</table>\n",
              "</div>\n",
              "      <button class=\"colab-df-convert\" onclick=\"convertToInteractive('df-7fe1484e-f342-4f7c-b2c9-b4c87b6d3836')\"\n",
              "              title=\"Convert this dataframe to an interactive table.\"\n",
              "              style=\"display:none;\">\n",
              "        \n",
              "  <svg xmlns=\"http://www.w3.org/2000/svg\" height=\"24px\"viewBox=\"0 0 24 24\"\n",
              "       width=\"24px\">\n",
              "    <path d=\"M0 0h24v24H0V0z\" fill=\"none\"/>\n",
              "    <path d=\"M18.56 5.44l.94 2.06.94-2.06 2.06-.94-2.06-.94-.94-2.06-.94 2.06-2.06.94zm-11 1L8.5 8.5l.94-2.06 2.06-.94-2.06-.94L8.5 2.5l-.94 2.06-2.06.94zm10 10l.94 2.06.94-2.06 2.06-.94-2.06-.94-.94-2.06-.94 2.06-2.06.94z\"/><path d=\"M17.41 7.96l-1.37-1.37c-.4-.4-.92-.59-1.43-.59-.52 0-1.04.2-1.43.59L10.3 9.45l-7.72 7.72c-.78.78-.78 2.05 0 2.83L4 21.41c.39.39.9.59 1.41.59.51 0 1.02-.2 1.41-.59l7.78-7.78 2.81-2.81c.8-.78.8-2.07 0-2.86zM5.41 20L4 18.59l7.72-7.72 1.47 1.35L5.41 20z\"/>\n",
              "  </svg>\n",
              "      </button>\n",
              "      \n",
              "  <style>\n",
              "    .colab-df-container {\n",
              "      display:flex;\n",
              "      flex-wrap:wrap;\n",
              "      gap: 12px;\n",
              "    }\n",
              "\n",
              "    .colab-df-convert {\n",
              "      background-color: #E8F0FE;\n",
              "      border: none;\n",
              "      border-radius: 50%;\n",
              "      cursor: pointer;\n",
              "      display: none;\n",
              "      fill: #1967D2;\n",
              "      height: 32px;\n",
              "      padding: 0 0 0 0;\n",
              "      width: 32px;\n",
              "    }\n",
              "\n",
              "    .colab-df-convert:hover {\n",
              "      background-color: #E2EBFA;\n",
              "      box-shadow: 0px 1px 2px rgba(60, 64, 67, 0.3), 0px 1px 3px 1px rgba(60, 64, 67, 0.15);\n",
              "      fill: #174EA6;\n",
              "    }\n",
              "\n",
              "    [theme=dark] .colab-df-convert {\n",
              "      background-color: #3B4455;\n",
              "      fill: #D2E3FC;\n",
              "    }\n",
              "\n",
              "    [theme=dark] .colab-df-convert:hover {\n",
              "      background-color: #434B5C;\n",
              "      box-shadow: 0px 1px 3px 1px rgba(0, 0, 0, 0.15);\n",
              "      filter: drop-shadow(0px 1px 2px rgba(0, 0, 0, 0.3));\n",
              "      fill: #FFFFFF;\n",
              "    }\n",
              "  </style>\n",
              "\n",
              "      <script>\n",
              "        const buttonEl =\n",
              "          document.querySelector('#df-7fe1484e-f342-4f7c-b2c9-b4c87b6d3836 button.colab-df-convert');\n",
              "        buttonEl.style.display =\n",
              "          google.colab.kernel.accessAllowed ? 'block' : 'none';\n",
              "\n",
              "        async function convertToInteractive(key) {\n",
              "          const element = document.querySelector('#df-7fe1484e-f342-4f7c-b2c9-b4c87b6d3836');\n",
              "          const dataTable =\n",
              "            await google.colab.kernel.invokeFunction('convertToInteractive',\n",
              "                                                     [key], {});\n",
              "          if (!dataTable) return;\n",
              "\n",
              "          const docLinkHtml = 'Like what you see? Visit the ' +\n",
              "            '<a target=\"_blank\" href=https://colab.research.google.com/notebooks/data_table.ipynb>data table notebook</a>'\n",
              "            + ' to learn more about interactive tables.';\n",
              "          element.innerHTML = '';\n",
              "          dataTable['output_type'] = 'display_data';\n",
              "          await google.colab.output.renderOutput(dataTable, element);\n",
              "          const docLink = document.createElement('div');\n",
              "          docLink.innerHTML = docLinkHtml;\n",
              "          element.appendChild(docLink);\n",
              "        }\n",
              "      </script>\n",
              "    </div>\n",
              "  </div>\n",
              "  "
            ]
          },
          "metadata": {},
          "execution_count": 7
        }
      ]
    },
    {
      "cell_type": "code",
      "source": [
        "carriers_df.head()"
      ],
      "metadata": {
        "id": "3enRbL26AYAE",
        "outputId": "d58baa6a-c206-4d68-d0f2-3d872828b748",
        "colab": {
          "base_uri": "https://localhost:8080/",
          "height": 206
        }
      },
      "id": "3enRbL26AYAE",
      "execution_count": 11,
      "outputs": [
        {
          "output_type": "execute_result",
          "data": {
            "text/plain": [
              "  Code                    Description\n",
              "0  02Q                  Titan Airways\n",
              "1  04Q             Tradewind Aviation\n",
              "2  05Q            Comlux Aviation, AG\n",
              "3  06Q  Master Top Linhas Aereas Ltd.\n",
              "4  07Q            Flair Airlines Ltd."
            ],
            "text/html": [
              "\n",
              "  <div id=\"df-a9a806ad-68f9-4a84-9484-a43d93081e09\">\n",
              "    <div class=\"colab-df-container\">\n",
              "      <div>\n",
              "<style scoped>\n",
              "    .dataframe tbody tr th:only-of-type {\n",
              "        vertical-align: middle;\n",
              "    }\n",
              "\n",
              "    .dataframe tbody tr th {\n",
              "        vertical-align: top;\n",
              "    }\n",
              "\n",
              "    .dataframe thead th {\n",
              "        text-align: right;\n",
              "    }\n",
              "</style>\n",
              "<table border=\"1\" class=\"dataframe\">\n",
              "  <thead>\n",
              "    <tr style=\"text-align: right;\">\n",
              "      <th></th>\n",
              "      <th>Code</th>\n",
              "      <th>Description</th>\n",
              "    </tr>\n",
              "  </thead>\n",
              "  <tbody>\n",
              "    <tr>\n",
              "      <th>0</th>\n",
              "      <td>02Q</td>\n",
              "      <td>Titan Airways</td>\n",
              "    </tr>\n",
              "    <tr>\n",
              "      <th>1</th>\n",
              "      <td>04Q</td>\n",
              "      <td>Tradewind Aviation</td>\n",
              "    </tr>\n",
              "    <tr>\n",
              "      <th>2</th>\n",
              "      <td>05Q</td>\n",
              "      <td>Comlux Aviation, AG</td>\n",
              "    </tr>\n",
              "    <tr>\n",
              "      <th>3</th>\n",
              "      <td>06Q</td>\n",
              "      <td>Master Top Linhas Aereas Ltd.</td>\n",
              "    </tr>\n",
              "    <tr>\n",
              "      <th>4</th>\n",
              "      <td>07Q</td>\n",
              "      <td>Flair Airlines Ltd.</td>\n",
              "    </tr>\n",
              "  </tbody>\n",
              "</table>\n",
              "</div>\n",
              "      <button class=\"colab-df-convert\" onclick=\"convertToInteractive('df-a9a806ad-68f9-4a84-9484-a43d93081e09')\"\n",
              "              title=\"Convert this dataframe to an interactive table.\"\n",
              "              style=\"display:none;\">\n",
              "        \n",
              "  <svg xmlns=\"http://www.w3.org/2000/svg\" height=\"24px\"viewBox=\"0 0 24 24\"\n",
              "       width=\"24px\">\n",
              "    <path d=\"M0 0h24v24H0V0z\" fill=\"none\"/>\n",
              "    <path d=\"M18.56 5.44l.94 2.06.94-2.06 2.06-.94-2.06-.94-.94-2.06-.94 2.06-2.06.94zm-11 1L8.5 8.5l.94-2.06 2.06-.94-2.06-.94L8.5 2.5l-.94 2.06-2.06.94zm10 10l.94 2.06.94-2.06 2.06-.94-2.06-.94-.94-2.06-.94 2.06-2.06.94z\"/><path d=\"M17.41 7.96l-1.37-1.37c-.4-.4-.92-.59-1.43-.59-.52 0-1.04.2-1.43.59L10.3 9.45l-7.72 7.72c-.78.78-.78 2.05 0 2.83L4 21.41c.39.39.9.59 1.41.59.51 0 1.02-.2 1.41-.59l7.78-7.78 2.81-2.81c.8-.78.8-2.07 0-2.86zM5.41 20L4 18.59l7.72-7.72 1.47 1.35L5.41 20z\"/>\n",
              "  </svg>\n",
              "      </button>\n",
              "      \n",
              "  <style>\n",
              "    .colab-df-container {\n",
              "      display:flex;\n",
              "      flex-wrap:wrap;\n",
              "      gap: 12px;\n",
              "    }\n",
              "\n",
              "    .colab-df-convert {\n",
              "      background-color: #E8F0FE;\n",
              "      border: none;\n",
              "      border-radius: 50%;\n",
              "      cursor: pointer;\n",
              "      display: none;\n",
              "      fill: #1967D2;\n",
              "      height: 32px;\n",
              "      padding: 0 0 0 0;\n",
              "      width: 32px;\n",
              "    }\n",
              "\n",
              "    .colab-df-convert:hover {\n",
              "      background-color: #E2EBFA;\n",
              "      box-shadow: 0px 1px 2px rgba(60, 64, 67, 0.3), 0px 1px 3px 1px rgba(60, 64, 67, 0.15);\n",
              "      fill: #174EA6;\n",
              "    }\n",
              "\n",
              "    [theme=dark] .colab-df-convert {\n",
              "      background-color: #3B4455;\n",
              "      fill: #D2E3FC;\n",
              "    }\n",
              "\n",
              "    [theme=dark] .colab-df-convert:hover {\n",
              "      background-color: #434B5C;\n",
              "      box-shadow: 0px 1px 3px 1px rgba(0, 0, 0, 0.15);\n",
              "      filter: drop-shadow(0px 1px 2px rgba(0, 0, 0, 0.3));\n",
              "      fill: #FFFFFF;\n",
              "    }\n",
              "  </style>\n",
              "\n",
              "      <script>\n",
              "        const buttonEl =\n",
              "          document.querySelector('#df-a9a806ad-68f9-4a84-9484-a43d93081e09 button.colab-df-convert');\n",
              "        buttonEl.style.display =\n",
              "          google.colab.kernel.accessAllowed ? 'block' : 'none';\n",
              "\n",
              "        async function convertToInteractive(key) {\n",
              "          const element = document.querySelector('#df-a9a806ad-68f9-4a84-9484-a43d93081e09');\n",
              "          const dataTable =\n",
              "            await google.colab.kernel.invokeFunction('convertToInteractive',\n",
              "                                                     [key], {});\n",
              "          if (!dataTable) return;\n",
              "\n",
              "          const docLinkHtml = 'Like what you see? Visit the ' +\n",
              "            '<a target=\"_blank\" href=https://colab.research.google.com/notebooks/data_table.ipynb>data table notebook</a>'\n",
              "            + ' to learn more about interactive tables.';\n",
              "          element.innerHTML = '';\n",
              "          dataTable['output_type'] = 'display_data';\n",
              "          await google.colab.output.renderOutput(dataTable, element);\n",
              "          const docLink = document.createElement('div');\n",
              "          docLink.innerHTML = docLinkHtml;\n",
              "          element.appendChild(docLink);\n",
              "        }\n",
              "      </script>\n",
              "    </div>\n",
              "  </div>\n",
              "  "
            ]
          },
          "metadata": {},
          "execution_count": 11
        }
      ]
    },
    {
      "cell_type": "code",
      "source": [
        "plane_df.tail() # do head() không chứa thông tin hữu ích"
      ],
      "metadata": {
        "id": "bzEfLVYgAuOh",
        "outputId": "57b23ede-25e9-45b6-99a6-ce2758dbf4a3",
        "colab": {
          "base_uri": "https://localhost:8080/",
          "height": 389
        }
      },
      "id": "bzEfLVYgAuOh",
      "execution_count": 13,
      "outputs": [
        {
          "output_type": "execute_result",
          "data": {
            "text/plain": [
              "     tailnum                 type                   manufacturer  issue_date  \\\n",
              "5024  N997DL          Corporation  MCDONNELL DOUGLAS AIRCRAFT CO  03/11/1992   \n",
              "5025  N998AT          Corporation                         BOEING  01/23/2003   \n",
              "5026  N998DL          Corporation  MCDONNELL DOUGLAS CORPORATION  04/02/1992   \n",
              "5027  N999CA  Foreign Corporation                       CANADAIR  07/09/2008   \n",
              "5028  N999DN          Corporation  MCDONNELL DOUGLAS CORPORATION  04/02/1992   \n",
              "\n",
              "            model status            aircraft_type engine_type  year  \n",
              "5024        MD-88  Valid  Fixed Wing Multi-Engine   Turbo-Fan  1992  \n",
              "5025      717-200  Valid  Fixed Wing Multi-Engine   Turbo-Fan  2002  \n",
              "5026        MD-88  Valid  Fixed Wing Multi-Engine   Turbo-Jet  1992  \n",
              "5027  CL-600-2B19  Valid  Fixed Wing Multi-Engine   Turbo-Jet  1998  \n",
              "5028        MD-88  Valid  Fixed Wing Multi-Engine   Turbo-Jet  1992  "
            ],
            "text/html": [
              "\n",
              "  <div id=\"df-f7271f8b-c369-42d5-b875-272e49084532\">\n",
              "    <div class=\"colab-df-container\">\n",
              "      <div>\n",
              "<style scoped>\n",
              "    .dataframe tbody tr th:only-of-type {\n",
              "        vertical-align: middle;\n",
              "    }\n",
              "\n",
              "    .dataframe tbody tr th {\n",
              "        vertical-align: top;\n",
              "    }\n",
              "\n",
              "    .dataframe thead th {\n",
              "        text-align: right;\n",
              "    }\n",
              "</style>\n",
              "<table border=\"1\" class=\"dataframe\">\n",
              "  <thead>\n",
              "    <tr style=\"text-align: right;\">\n",
              "      <th></th>\n",
              "      <th>tailnum</th>\n",
              "      <th>type</th>\n",
              "      <th>manufacturer</th>\n",
              "      <th>issue_date</th>\n",
              "      <th>model</th>\n",
              "      <th>status</th>\n",
              "      <th>aircraft_type</th>\n",
              "      <th>engine_type</th>\n",
              "      <th>year</th>\n",
              "    </tr>\n",
              "  </thead>\n",
              "  <tbody>\n",
              "    <tr>\n",
              "      <th>5024</th>\n",
              "      <td>N997DL</td>\n",
              "      <td>Corporation</td>\n",
              "      <td>MCDONNELL DOUGLAS AIRCRAFT CO</td>\n",
              "      <td>03/11/1992</td>\n",
              "      <td>MD-88</td>\n",
              "      <td>Valid</td>\n",
              "      <td>Fixed Wing Multi-Engine</td>\n",
              "      <td>Turbo-Fan</td>\n",
              "      <td>1992</td>\n",
              "    </tr>\n",
              "    <tr>\n",
              "      <th>5025</th>\n",
              "      <td>N998AT</td>\n",
              "      <td>Corporation</td>\n",
              "      <td>BOEING</td>\n",
              "      <td>01/23/2003</td>\n",
              "      <td>717-200</td>\n",
              "      <td>Valid</td>\n",
              "      <td>Fixed Wing Multi-Engine</td>\n",
              "      <td>Turbo-Fan</td>\n",
              "      <td>2002</td>\n",
              "    </tr>\n",
              "    <tr>\n",
              "      <th>5026</th>\n",
              "      <td>N998DL</td>\n",
              "      <td>Corporation</td>\n",
              "      <td>MCDONNELL DOUGLAS CORPORATION</td>\n",
              "      <td>04/02/1992</td>\n",
              "      <td>MD-88</td>\n",
              "      <td>Valid</td>\n",
              "      <td>Fixed Wing Multi-Engine</td>\n",
              "      <td>Turbo-Jet</td>\n",
              "      <td>1992</td>\n",
              "    </tr>\n",
              "    <tr>\n",
              "      <th>5027</th>\n",
              "      <td>N999CA</td>\n",
              "      <td>Foreign Corporation</td>\n",
              "      <td>CANADAIR</td>\n",
              "      <td>07/09/2008</td>\n",
              "      <td>CL-600-2B19</td>\n",
              "      <td>Valid</td>\n",
              "      <td>Fixed Wing Multi-Engine</td>\n",
              "      <td>Turbo-Jet</td>\n",
              "      <td>1998</td>\n",
              "    </tr>\n",
              "    <tr>\n",
              "      <th>5028</th>\n",
              "      <td>N999DN</td>\n",
              "      <td>Corporation</td>\n",
              "      <td>MCDONNELL DOUGLAS CORPORATION</td>\n",
              "      <td>04/02/1992</td>\n",
              "      <td>MD-88</td>\n",
              "      <td>Valid</td>\n",
              "      <td>Fixed Wing Multi-Engine</td>\n",
              "      <td>Turbo-Jet</td>\n",
              "      <td>1992</td>\n",
              "    </tr>\n",
              "  </tbody>\n",
              "</table>\n",
              "</div>\n",
              "      <button class=\"colab-df-convert\" onclick=\"convertToInteractive('df-f7271f8b-c369-42d5-b875-272e49084532')\"\n",
              "              title=\"Convert this dataframe to an interactive table.\"\n",
              "              style=\"display:none;\">\n",
              "        \n",
              "  <svg xmlns=\"http://www.w3.org/2000/svg\" height=\"24px\"viewBox=\"0 0 24 24\"\n",
              "       width=\"24px\">\n",
              "    <path d=\"M0 0h24v24H0V0z\" fill=\"none\"/>\n",
              "    <path d=\"M18.56 5.44l.94 2.06.94-2.06 2.06-.94-2.06-.94-.94-2.06-.94 2.06-2.06.94zm-11 1L8.5 8.5l.94-2.06 2.06-.94-2.06-.94L8.5 2.5l-.94 2.06-2.06.94zm10 10l.94 2.06.94-2.06 2.06-.94-2.06-.94-.94-2.06-.94 2.06-2.06.94z\"/><path d=\"M17.41 7.96l-1.37-1.37c-.4-.4-.92-.59-1.43-.59-.52 0-1.04.2-1.43.59L10.3 9.45l-7.72 7.72c-.78.78-.78 2.05 0 2.83L4 21.41c.39.39.9.59 1.41.59.51 0 1.02-.2 1.41-.59l7.78-7.78 2.81-2.81c.8-.78.8-2.07 0-2.86zM5.41 20L4 18.59l7.72-7.72 1.47 1.35L5.41 20z\"/>\n",
              "  </svg>\n",
              "      </button>\n",
              "      \n",
              "  <style>\n",
              "    .colab-df-container {\n",
              "      display:flex;\n",
              "      flex-wrap:wrap;\n",
              "      gap: 12px;\n",
              "    }\n",
              "\n",
              "    .colab-df-convert {\n",
              "      background-color: #E8F0FE;\n",
              "      border: none;\n",
              "      border-radius: 50%;\n",
              "      cursor: pointer;\n",
              "      display: none;\n",
              "      fill: #1967D2;\n",
              "      height: 32px;\n",
              "      padding: 0 0 0 0;\n",
              "      width: 32px;\n",
              "    }\n",
              "\n",
              "    .colab-df-convert:hover {\n",
              "      background-color: #E2EBFA;\n",
              "      box-shadow: 0px 1px 2px rgba(60, 64, 67, 0.3), 0px 1px 3px 1px rgba(60, 64, 67, 0.15);\n",
              "      fill: #174EA6;\n",
              "    }\n",
              "\n",
              "    [theme=dark] .colab-df-convert {\n",
              "      background-color: #3B4455;\n",
              "      fill: #D2E3FC;\n",
              "    }\n",
              "\n",
              "    [theme=dark] .colab-df-convert:hover {\n",
              "      background-color: #434B5C;\n",
              "      box-shadow: 0px 1px 3px 1px rgba(0, 0, 0, 0.15);\n",
              "      filter: drop-shadow(0px 1px 2px rgba(0, 0, 0, 0.3));\n",
              "      fill: #FFFFFF;\n",
              "    }\n",
              "  </style>\n",
              "\n",
              "      <script>\n",
              "        const buttonEl =\n",
              "          document.querySelector('#df-f7271f8b-c369-42d5-b875-272e49084532 button.colab-df-convert');\n",
              "        buttonEl.style.display =\n",
              "          google.colab.kernel.accessAllowed ? 'block' : 'none';\n",
              "\n",
              "        async function convertToInteractive(key) {\n",
              "          const element = document.querySelector('#df-f7271f8b-c369-42d5-b875-272e49084532');\n",
              "          const dataTable =\n",
              "            await google.colab.kernel.invokeFunction('convertToInteractive',\n",
              "                                                     [key], {});\n",
              "          if (!dataTable) return;\n",
              "\n",
              "          const docLinkHtml = 'Like what you see? Visit the ' +\n",
              "            '<a target=\"_blank\" href=https://colab.research.google.com/notebooks/data_table.ipynb>data table notebook</a>'\n",
              "            + ' to learn more about interactive tables.';\n",
              "          element.innerHTML = '';\n",
              "          dataTable['output_type'] = 'display_data';\n",
              "          await google.colab.output.renderOutput(dataTable, element);\n",
              "          const docLink = document.createElement('div');\n",
              "          docLink.innerHTML = docLinkHtml;\n",
              "          element.appendChild(docLink);\n",
              "        }\n",
              "      </script>\n",
              "    </div>\n",
              "  </div>\n",
              "  "
            ]
          },
          "metadata": {},
          "execution_count": 13
        }
      ]
    },
    {
      "cell_type": "markdown",
      "source": [
        "Qua phân tích các dataset:\n",
        "airports.csv chứa iata, airport, state, country, lat & long sẽ được sử dụng để gắn thẻ tên và cho biết vị trí của các sân bay\n",
        "carriers.csv: chứa Code và Decription sử dụng để gắn thẻ tên của nhà cung cấp dịch vụ\n",
        "plane-data chứa tailnum, type, manufacturer, issue_date, model, status, aircraft_type, engine_type & year sẽ được sử dụng để gắn thẻ các chi tiết sản xuất của máy bay"
      ],
      "metadata": {
        "id": "M9CeU4JTBHbr"
      },
      "id": "M9CeU4JTBHbr"
    },
    {
      "cell_type": "markdown",
      "source": [
        "# Data Exploration"
      ],
      "metadata": {
        "id": "Bwm64UnLCrYv"
      },
      "id": "Bwm64UnLCrYv"
    },
    {
      "cell_type": "markdown",
      "source": [
        "## Question 1: Thời gian tốt nhất trong ngày, tuần và thời gian trong năm sẽ giảm thiểu sự chậm trễ khi bay"
      ],
      "metadata": {
        "id": "7ZCgMs3nC6Rx"
      },
      "id": "7ZCgMs3nC6Rx"
    },
    {
      "cell_type": "markdown",
      "source": [
        "Đầu tiên ta có: Tổng thời gian khi trễ được tính bằng cách trừ ActualElapsedTime(Thời gian thực tế) cho CRSElapsedTime(Thời gian đã trôi qua). Thời gian khởi hành của mỗi nhóm quan sát được nhóm theo giờ. Ví dụ 1920 sẽ thuộc nhóm 1900 - 1959. Cuối cùng thống kê mô tả về tổng thời gian trễ được kiểm tra theo giờ, theo ngày trong tuần"
      ],
      "metadata": {
        "id": "2WYlR_xWDtk2"
      },
      "id": "2WYlR_xWDtk2"
    },
    {
      "cell_type": "code",
      "source": [
        "df[\"total_delay\"] = df[\"ActualElapsedTime\"] - df[\"CRSElapsedTime\"]\n",
        "\n",
        "def get_hour(time):\n",
        "    return \"00\" if str(time)[:-2] == \"24\" else str(time)[:-2].zfill(2)\n",
        "\n",
        "df[\"hr\"] = df[\"CRSDepTime\"].apply(get_hour)\n",
        "\n",
        "sns.set_style(\"whitegrid\")\n",
        "fig1, ax1 = plt.subplots(figsize=(12.8, 6.4), constrained_layout=True)\n",
        "ax1 = sns.boxplot(x=\"hr\", y=\"total_delay\", order=np.sort(df[\"hr\"].unique()), data=df[[\"total_delay\", \"hr\"]], showfliers=False)\n",
        "ax1.set_title(\"Fig 1. Tổng phân bổ độ trễ theo giờ trong ngày\", fontdict={\"weight\": \"bold\", \"fontsize\": 16})\n",
        "ax1.set_xlabel(\"Giờ\", fontdict={\"weight\": \"bold\", \"fontsize\": 14})\n",
        "ax1.set_ylabel(\"Tổng độ trễ\", fontdict={\"weight\": \"bold\", \"fontsize\": 14})\n",
        "pass"
      ],
      "metadata": {
        "id": "_TC8MHXBN2My",
        "outputId": "7922974c-32ca-4231-fdce-4130d6f329ab",
        "colab": {
          "base_uri": "https://localhost:8080/",
          "height": 454
        }
      },
      "id": "_TC8MHXBN2My",
      "execution_count": 19,
      "outputs": [
        {
          "output_type": "display_data",
          "data": {
            "text/plain": [
              "<Figure size 921.6x460.8 with 1 Axes>"
            ],
            "image/png": "[encoded data removed]"
          },
          "metadata": {}
        }
      ]
    },
    {
      "cell_type": "markdown",
      "source": [
        "Sự phân bố tổng số lần chậm trễ được so sánh theo giờ. Nhìn vào Hình 1, ta thấy hầu hết các chuyến bay có thời gian trễ trung bình là 2 phút nhưng có sự thay đổi lớn về độ trễ lên đến 20 phút. Các chuyến bay lúc 03:00 giờ có mức độ chậm trễ thay đổi thấp nhất( không bao gồm 04 giờ có thời gian trễ trung bình thấp nhất) và có thời gian trễ trung bình là 1 phút. \n",
        "Vì vậy, các chuyến bay lúc 03:00 giờ sẽ là một lựa chọn tốt và giảm thiểu khả năng bị hoãn lâu."
      ],
      "metadata": {
        "id": "I3ZxCMwXP8fA"
      },
      "id": "I3ZxCMwXP8fA"
    },
    {
      "cell_type": "code",
      "source": [
        "sns.set_style(\"whitegrid\")\n",
        "fig2, ax2 = plt.subplots(figsize=(12.8, 6.4), constrained_layout=True)\n",
        "ax2 = sns.boxplot(x=\"DayOfWeek\", y=\"total_delay\", order=np.sort(df[\"DayOfWeek\"].unique()), data=df[[\"total_delay\", \"DayOfWeek\"]], showfliers=False)\n",
        "ax2.set_title(\"Fig 2. Total Delay Distribution by Day of Week\", fontdict={\"weight\": \"bold\", \"fontsize\": 16})\n",
        "ax2.set_xlabel(\"Day of Week\", fontdict={\"weight\": \"bold\", \"fontsize\": 14})\n",
        "ax2.set_xticklabels([\"Mon\", \"Tue\", \"Wed\", \"Thu\", \"Fri\", \"Sat\", \"Sun\"])\n",
        "ax2.set_ylabel(\"Total Delay\", fontdict={\"weight\": \"bold\", \"fontsize\": 14})\n",
        "pass"
      ],
      "metadata": {
        "id": "S-J1u0d7TdtO",
        "outputId": "6b680856-d29e-4e91-b6e9-bb7e6a21ba32",
        "colab": {
          "base_uri": "https://localhost:8080/",
          "height": 454
        }
      },
      "id": "S-J1u0d7TdtO",
      "execution_count": 20,
      "outputs": [
        {
          "output_type": "display_data",
          "data": {
            "text/plain": [
              "<Figure size 921.6x460.8 with 1 Axes>"
            ],
            "image/png": "[encoded data removed]"
          },
          "metadata": {}
        }
      ]
    }
  ],
  "metadata": {
    "kernelspec": {
      "display_name": "Python 3 (ipykernel)",
      "language": "python",
      "name": "python3"
    },
    "language_info": {
      "codemirror_mode": {
        "name": "ipython",
        "version": 3
      },
      "file_extension": ".py",
      "mimetype": "text/x-python",
      "name": "python",
      "nbconvert_exporter": "python",
      "pygments_lexer": "ipython3",
      "version": "3.9.12"
    },
    "colab": {
      "name": "Airline Time .ipynb",
      "provenance": [],
      "collapsed_sections": [],
      "toc_visible": true,
      "include_colab_link": true
    }
  },
  "nbformat": 4,
  "nbformat_minor": 5
}