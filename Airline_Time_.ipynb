{
  "cells": [
    {
      "cell_type": "markdown",
      "metadata": {
        "id": "view-in-github",
        "colab_type": "text"
      },
      "source": [
        "<a href=\"https://colab.research.google.com/github/Mcuong17/DoanWEB-demo/blob/main/Airline_Time_.ipynb\" target=\"_parent\"><img src=\"https://colab.research.google.com/assets/colab-badge.svg\" alt=\"Open In Colab\"/></a>"
      ]
    },
    {
      "cell_type": "markdown",
      "source": [
        "# Giới thiệu topic\n",
        "Đối mặt với sự chậm trễ của các chuyến bay luôn là một điều rất phiền toái với khách hang bởi vì điều đó là điều họ không thể dự đoán hay lường trước rằng việc delay chuyến bay sẽ xảy ra. Việc chậm trễ khi bay có thể dẫn đến lãng phí thời gian và có thể làm xáo trộn lịch bay của chuyến bay tiếp theo. Do đó bài phân tích này nhằm mục đích kiểm tra các dữ liệu của các chuyến bay và tìm hiểu các dạng chậm trễ của chuyến bay, giúp khách hang có thể dự đoán được sự chậm trễ đó xảy ra như thế nào."
      ],
      "metadata": {
        "id": "-nVB7rP6xsQi"
      },
      "id": "-nVB7rP6xsQi"
    },
    {
      "cell_type": "markdown",
      "source": [
        "# Data Pre Processing( Tiền xử lý dữ liệu)\n",
        "Đầu tiên chúng ta sẽ thêm các thư viện cần dùng\n",
        "Những thư viện được sử dụng đó là:\n",
        "1.   Numpy: được sử dụng cho các hàm tính toán, xử lý các mảng dữ liệu numberic\n",
        "2.   Pandas: Được sử dụng để xử lý các vấn đề liên quan đến dữ liệu, dataset...\n",
        "3.    Matplotlib và Seaborn: Được sử dụng cho việc trực quan hóa dữ liệu\n",
        "4.    Sklearn: Tạo mô hình và chứa một số chức năng tiền xử lý dữ liệu hữu ích\n",
        "\n"
      ],
      "metadata": {
        "id": "zxHB1LZ2yn22"
      },
      "id": "zxHB1LZ2yn22"
    },
    {
      "cell_type": "code",
      "execution_count": 1,
      "id": "8de5691d",
      "metadata": {
        "id": "8de5691d"
      },
      "outputs": [],
      "source": [
        "import numpy as np\n",
        "import pandas as pd\n",
        "from sklearn.model_selection import train_test_split\n",
        "from sklearn.preprocessing import StandardScaler\n",
        "from sklearn.ensemble import RandomForestClassifier\n",
        "from sklearn.metrics import plot_confusion_matrix, accuracy_score\n",
        "import seaborn as sns\n",
        "import matplotlib.pyplot as plt\n",
        "%matplotlib inline"
      ]
    },
    {
      "cell_type": "markdown",
      "source": [
        "## Load dataframe"
      ],
      "metadata": {
        "id": "RHKs-d6n1sx3"
      },
      "id": "RHKs-d6n1sx3"
    },
    {
      "cell_type": "code",
      "execution_count": 10,
      "id": "1b85a560",
      "metadata": {
        "colab": {
          "base_uri": "https://localhost:8080/",
          "height": 300
        },
        "id": "1b85a560",
        "outputId": "422c3a5f-25de-4f60-c881-42d04b0d42a4"
      },
      "outputs": [
        {
          "output_type": "execute_result",
          "data": {
            "text/plain": [
              "   Year  Month  DayofMonth  DayOfWeek  DepTime  CRSDepTime  ArrTime  \\\n",
              "0  1999      1          27          3   1906.0        1908   2024.0   \n",
              "1  1999      1          28          4   2016.0        1908   2126.0   \n",
              "2  1999      1          29          5   1907.0        1908   2000.0   \n",
              "3  1999      1          31          7   1932.0        1908   2031.0   \n",
              "4  1999      1           1          5   1601.0        1535   1707.0   \n",
              "\n",
              "   CRSArrTime UniqueCarrier  FlightNum  ... TaxiIn  TaxiOut  Cancelled  \\\n",
              "0        2005            US       1244  ...      3        9          0   \n",
              "1        2005            US       1244  ...     19       10          0   \n",
              "2        2005            US       1244  ...      2        8          0   \n",
              "3        2005            US       1244  ...      6        8          0   \n",
              "4        1645            US        297  ...     11        8          0   \n",
              "\n",
              "   CancellationCode  Diverted  CarrierDelay WeatherDelay NASDelay  \\\n",
              "0               NaN         0           NaN          NaN      NaN   \n",
              "1               NaN         0           NaN          NaN      NaN   \n",
              "2               NaN         0           NaN          NaN      NaN   \n",
              "3               NaN         0           NaN          NaN      NaN   \n",
              "4               NaN         0           NaN          NaN      NaN   \n",
              "\n",
              "   SecurityDelay  LateAircraftDelay  \n",
              "0            NaN                NaN  \n",
              "1            NaN                NaN  \n",
              "2            NaN                NaN  \n",
              "3            NaN                NaN  \n",
              "4            NaN                NaN  \n",
              "\n",
              "[5 rows x 29 columns]"
            ],
            "text/html": [
              "\n",
              "  <div id=\"df-e869e4b1-d3c5-442f-be16-4b30e5b7df8e\">\n",
              "    <div class=\"colab-df-container\">\n",
              "      <div>\n",
              "<style scoped>\n",
              "    .dataframe tbody tr th:only-of-type {\n",
              "        vertical-align: middle;\n",
              "    }\n",
              "\n",
              "    .dataframe tbody tr th {\n",
              "        vertical-align: top;\n",
              "    }\n",
              "\n",
              "    .dataframe thead th {\n",
              "        text-align: right;\n",
              "    }\n",
              "</style>\n",
              "<table border=\"1\" class=\"dataframe\">\n",
              "  <thead>\n",
              "    <tr style=\"text-align: right;\">\n",
              "      <th></th>\n",
              "      <th>Year</th>\n",
              "      <th>Month</th>\n",
              "      <th>DayofMonth</th>\n",
              "      <th>DayOfWeek</th>\n",
              "      <th>DepTime</th>\n",
              "      <th>CRSDepTime</th>\n",
              "      <th>ArrTime</th>\n",
              "      <th>CRSArrTime</th>\n",
              "      <th>UniqueCarrier</th>\n",
              "      <th>FlightNum</th>\n",
              "      <th>...</th>\n",
              "      <th>TaxiIn</th>\n",
              "      <th>TaxiOut</th>\n",
              "      <th>Cancelled</th>\n",
              "      <th>CancellationCode</th>\n",
              "      <th>Diverted</th>\n",
              "      <th>CarrierDelay</th>\n",
              "      <th>WeatherDelay</th>\n",
              "      <th>NASDelay</th>\n",
              "      <th>SecurityDelay</th>\n",
              "      <th>LateAircraftDelay</th>\n",
              "    </tr>\n",
              "  </thead>\n",
              "  <tbody>\n",
              "    <tr>\n",
              "      <th>0</th>\n",
              "      <td>1999</td>\n",
              "      <td>1</td>\n",
              "      <td>27</td>\n",
              "      <td>3</td>\n",
              "      <td>1906.0</td>\n",
              "      <td>1908</td>\n",
              "      <td>2024.0</td>\n",
              "      <td>2005</td>\n",
              "      <td>US</td>\n",
              "      <td>1244</td>\n",
              "      <td>...</td>\n",
              "      <td>3</td>\n",
              "      <td>9</td>\n",
              "      <td>0</td>\n",
              "      <td>NaN</td>\n",
              "      <td>0</td>\n",
              "      <td>NaN</td>\n",
              "      <td>NaN</td>\n",
              "      <td>NaN</td>\n",
              "      <td>NaN</td>\n",
              "      <td>NaN</td>\n",
              "    </tr>\n",
              "    <tr>\n",
              "      <th>1</th>\n",
              "      <td>1999</td>\n",
              "      <td>1</td>\n",
              "      <td>28</td>\n",
              "      <td>4</td>\n",
              "      <td>2016.0</td>\n",
              "      <td>1908</td>\n",
              "      <td>2126.0</td>\n",
              "      <td>2005</td>\n",
              "      <td>US</td>\n",
              "      <td>1244</td>\n",
              "      <td>...</td>\n",
              "      <td>19</td>\n",
              "      <td>10</td>\n",
              "      <td>0</td>\n",
              "      <td>NaN</td>\n",
              "      <td>0</td>\n",
              "      <td>NaN</td>\n",
              "      <td>NaN</td>\n",
              "      <td>NaN</td>\n",
              "      <td>NaN</td>\n",
              "      <td>NaN</td>\n",
              "    </tr>\n",
              "    <tr>\n",
              "      <th>2</th>\n",
              "      <td>1999</td>\n",
              "      <td>1</td>\n",
              "      <td>29</td>\n",
              "      <td>5</td>\n",
              "      <td>1907.0</td>\n",
              "      <td>1908</td>\n",
              "      <td>2000.0</td>\n",
              "      <td>2005</td>\n",
              "      <td>US</td>\n",
              "      <td>1244</td>\n",
              "      <td>...</td>\n",
              "      <td>2</td>\n",
              "      <td>8</td>\n",
              "      <td>0</td>\n",
              "      <td>NaN</td>\n",
              "      <td>0</td>\n",
              "      <td>NaN</td>\n",
              "      <td>NaN</td>\n",
              "      <td>NaN</td>\n",
              "      <td>NaN</td>\n",
              "      <td>NaN</td>\n",
              "    </tr>\n",
              "    <tr>\n",
              "      <th>3</th>\n",
              "      <td>1999</td>\n",
              "      <td>1</td>\n",
              "      <td>31</td>\n",
              "      <td>7</td>\n",
              "      <td>1932.0</td>\n",
              "      <td>1908</td>\n",
              "      <td>2031.0</td>\n",
              "      <td>2005</td>\n",
              "      <td>US</td>\n",
              "      <td>1244</td>\n",
              "      <td>...</td>\n",
              "      <td>6</td>\n",
              "      <td>8</td>\n",
              "      <td>0</td>\n",
              "      <td>NaN</td>\n",
              "      <td>0</td>\n",
              "      <td>NaN</td>\n",
              "      <td>NaN</td>\n",
              "      <td>NaN</td>\n",
              "      <td>NaN</td>\n",
              "      <td>NaN</td>\n",
              "    </tr>\n",
              "    <tr>\n",
              "      <th>4</th>\n",
              "      <td>1999</td>\n",
              "      <td>1</td>\n",
              "      <td>1</td>\n",
              "      <td>5</td>\n",
              "      <td>1601.0</td>\n",
              "      <td>1535</td>\n",
              "      <td>1707.0</td>\n",
              "      <td>1645</td>\n",
              "      <td>US</td>\n",
              "      <td>297</td>\n",
              "      <td>...</td>\n",
              "      <td>11</td>\n",
              "      <td>8</td>\n",
              "      <td>0</td>\n",
              "      <td>NaN</td>\n",
              "      <td>0</td>\n",
              "      <td>NaN</td>\n",
              "      <td>NaN</td>\n",
              "      <td>NaN</td>\n",
              "      <td>NaN</td>\n",
              "      <td>NaN</td>\n",
              "    </tr>\n",
              "  </tbody>\n",
              "</table>\n",
              "<p>5 rows × 29 columns</p>\n",
              "</div>\n",
              "      <button class=\"colab-df-convert\" onclick=\"convertToInteractive('df-e869e4b1-d3c5-442f-be16-4b30e5b7df8e')\"\n",
              "              title=\"Convert this dataframe to an interactive table.\"\n",
              "              style=\"display:none;\">\n",
              "        \n",
              "  <svg xmlns=\"http://www.w3.org/2000/svg\" height=\"24px\"viewBox=\"0 0 24 24\"\n",
              "       width=\"24px\">\n",
              "    <path d=\"M0 0h24v24H0V0z\" fill=\"none\"/>\n",
              "    <path d=\"M18.56 5.44l.94 2.06.94-2.06 2.06-.94-2.06-.94-.94-2.06-.94 2.06-2.06.94zm-11 1L8.5 8.5l.94-2.06 2.06-.94-2.06-.94L8.5 2.5l-.94 2.06-2.06.94zm10 10l.94 2.06.94-2.06 2.06-.94-2.06-.94-.94-2.06-.94 2.06-2.06.94z\"/><path d=\"M17.41 7.96l-1.37-1.37c-.4-.4-.92-.59-1.43-.59-.52 0-1.04.2-1.43.59L10.3 9.45l-7.72 7.72c-.78.78-.78 2.05 0 2.83L4 21.41c.39.39.9.59 1.41.59.51 0 1.02-.2 1.41-.59l7.78-7.78 2.81-2.81c.8-.78.8-2.07 0-2.86zM5.41 20L4 18.59l7.72-7.72 1.47 1.35L5.41 20z\"/>\n",
              "  </svg>\n",
              "      </button>\n",
              "      \n",
              "  <style>\n",
              "    .colab-df-container {\n",
              "      display:flex;\n",
              "      flex-wrap:wrap;\n",
              "      gap: 12px;\n",
              "    }\n",
              "\n",
              "    .colab-df-convert {\n",
              "      background-color: #E8F0FE;\n",
              "      border: none;\n",
              "      border-radius: 50%;\n",
              "      cursor: pointer;\n",
              "      display: none;\n",
              "      fill: #1967D2;\n",
              "      height: 32px;\n",
              "      padding: 0 0 0 0;\n",
              "      width: 32px;\n",
              "    }\n",
              "\n",
              "    .colab-df-convert:hover {\n",
              "      background-color: #E2EBFA;\n",
              "      box-shadow: 0px 1px 2px rgba(60, 64, 67, 0.3), 0px 1px 3px 1px rgba(60, 64, 67, 0.15);\n",
              "      fill: #174EA6;\n",
              "    }\n",
              "\n",
              "    [theme=dark] .colab-df-convert {\n",
              "      background-color: #3B4455;\n",
              "      fill: #D2E3FC;\n",
              "    }\n",
              "\n",
              "    [theme=dark] .colab-df-convert:hover {\n",
              "      background-color: #434B5C;\n",
              "      box-shadow: 0px 1px 3px 1px rgba(0, 0, 0, 0.15);\n",
              "      filter: drop-shadow(0px 1px 2px rgba(0, 0, 0, 0.3));\n",
              "      fill: #FFFFFF;\n",
              "    }\n",
              "  </style>\n",
              "\n",
              "      <script>\n",
              "        const buttonEl =\n",
              "          document.querySelector('#df-e869e4b1-d3c5-442f-be16-4b30e5b7df8e button.colab-df-convert');\n",
              "        buttonEl.style.display =\n",
              "          google.colab.kernel.accessAllowed ? 'block' : 'none';\n",
              "\n",
              "        async function convertToInteractive(key) {\n",
              "          const element = document.querySelector('#df-e869e4b1-d3c5-442f-be16-4b30e5b7df8e');\n",
              "          const dataTable =\n",
              "            await google.colab.kernel.invokeFunction('convertToInteractive',\n",
              "                                                     [key], {});\n",
              "          if (!dataTable) return;\n",
              "\n",
              "          const docLinkHtml = 'Like what you see? Visit the ' +\n",
              "            '<a target=\"_blank\" href=https://colab.research.google.com/notebooks/data_table.ipynb>data table notebook</a>'\n",
              "            + ' to learn more about interactive tables.';\n",
              "          element.innerHTML = '';\n",
              "          dataTable['output_type'] = 'display_data';\n",
              "          await google.colab.output.renderOutput(dataTable, element);\n",
              "          const docLink = document.createElement('div');\n",
              "          docLink.innerHTML = docLinkHtml;\n",
              "          element.appendChild(docLink);\n",
              "        }\n",
              "      </script>\n",
              "    </div>\n",
              "  </div>\n",
              "  "
            ]
          },
          "metadata": {},
          "execution_count": 10
        }
      ],
      "source": [
        "\n",
        "df1 = pd.read_csv(\"1999.csv\")\n",
        "df1.head(5)"
      ]
    },
    {
      "cell_type": "code",
      "execution_count": 6,
      "id": "7610fa3f",
      "metadata": {
        "id": "7610fa3f"
      },
      "outputs": [],
      "source": [
        "df2 = pd.read_csv(\"2000.csv\")"
      ]
    },
    {
      "cell_type": "code",
      "source": [
        "df = pd.concat([df1, df2])"
      ],
      "metadata": {
        "id": "JXpg7sdLwQeo"
      },
      "id": "JXpg7sdLwQeo",
      "execution_count": 8,
      "outputs": []
    },
    {
      "cell_type": "markdown",
      "source": [
        "## Tổng quan về dataframe, tên các cột và kích thước của df"
      ],
      "metadata": {
        "id": "ooZMjuuK1-32"
      },
      "id": "ooZMjuuK1-32"
    },
    {
      "cell_type": "code",
      "source": [
        "df.columns"
      ],
      "metadata": {
        "colab": {
          "base_uri": "https://localhost:8080/"
        },
        "id": "UhIW94gjwpVe",
        "outputId": "18c32d8d-50b9-4f6e-d2ac-176106699bde"
      },
      "id": "UhIW94gjwpVe",
      "execution_count": 9,
      "outputs": [
        {
          "output_type": "execute_result",
          "data": {
            "text/plain": [
              "Index(['Year', 'Month', 'DayofMonth', 'DayOfWeek', 'DepTime', 'CRSDepTime',\n",
              "       'ArrTime', 'CRSArrTime', 'UniqueCarrier', 'FlightNum', 'TailNum',\n",
              "       'ActualElapsedTime', 'CRSElapsedTime', 'AirTime', 'ArrDelay',\n",
              "       'DepDelay', 'Origin', 'Dest', 'Distance', 'TaxiIn', 'TaxiOut',\n",
              "       'Cancelled', 'CancellationCode', 'Diverted', 'CarrierDelay',\n",
              "       'WeatherDelay', 'NASDelay', 'SecurityDelay', 'LateAircraftDelay'],\n",
              "      dtype='object')"
            ]
          },
          "metadata": {},
          "execution_count": 9
        }
      ]
    },
    {
      "cell_type": "markdown",
      "source": [
        "Dựa vào dữ liệu đã cung cấp: Dataset bao gồm hơn 11 triệu observation về chuyến bay với 29 cột:\n",
        "*   **Year [int]:** Bao gồm thông tin về năm(1999&2000)\n",
        "*   **Month [int]:** Thông tin về tháng(1 - Jan, 2 - Feb..)\n",
        "*   **DayofMonth [int]**: Ngày trong tháng(1-31, nếu có)\n",
        "*   **DayOfWeek [int]**: Ngày trong tuần(1 - Mon, 2 - Tue..)\n",
        "*   **DepTime [int]**: Thời gian khởi hành thực tế(theo múi giờ địa phương)\n",
        "*   **CRSDepTime [int]**: Thời gian khởi hành theo lịch trình(theo múi giờ địa phương)\n",
        "*   **ArrTime [int]**: Thời gian thực tế(theo múi giờ địa phương)\n",
        "*   **UniqueCarrier [int]**: Mã nhà cung cấp dịch vụ để xác định các nhà cung cấp dịch vụ trong file carriers.csv\n",
        "*   **FlightNum [int]**: Số chuyến bay\n",
        "*   **TailNum [str]**: Số hiệu trên đuôi máy bay có trong file plane-data.csv\n",
        "*   **ActualElapsedTime [int]**: Sự khác biệt giữa ArrTime và DepTime trong vài phút, đồng thời cũng là tổng của AirTime, TaxiIn, TaxiOut\n",
        "*   **CRSElapsedTime [int]**:  Sự khác biệt giữa CRSArrTime và CRSDepTime trong vài phút\n",
        "*   ** ArrDelay [int]:**Sự khác biệt giữa ArrTime và CRSArrTime trong vài phút\n",
        "*    **DepDelay [int]**: Sự khác biệt giữa DepTime and CRSDepTime trong vài phút\n",
        "*    **Origin [str]**: Sử dụng để xác định mã sân bay IATA mà chuyến bay đã khởi hành trong file airports.csv\n",
        "*    **Dest [str]**: Sử dụng để xác định mã sân bay IATA mà chuyến bay đã khởi hành trong file airports.csv\n",
        "*    **Distance [int]**: Khoảng cách bay( tính bằng dặm)\n",
        "*    **TaxiIn [int]**: Thời gian taxi đến tính bằng phút\n",
        "*    **TaxiOut [int]**: Thời gian taxi trả tính bằng phút\n",
        "*    **Cancelled [int]**: Hủy chuyến bay(1 - bị hủy, 0 - Không bị hủy)\n",
        "*    **CancellationCode [str]**: Lý do hủy chuyến bay ( A - Hãng vận chuyển, B - Thời tiết, C - Hệ thống hàng không quốc gia, D - An ninh)\n",
        "*   ** Diverted [int]**: chuyển hướng( 1 - Chuyển hướng, 0 - không chuyển hướng)\n",
        "*   **WeatherDelay [int]**: Sự chậm trễ ảnh hưởng do thời tiết tính bằng phút\n",
        "*   **NASDelay [int]**: Sự chậm trễ ảnh hưởng do hệ thống hàng không quốc gia gây ra trong vài phút\n",
        "*  ** LateAircraftDelay [int]**: Sự chậm trể ảnh hưởng bởi chuyến bay trước cũng bị muộn\n",
        "\n",
        "-  Dựa trên các cột, có 3 taajo dữ liệu bổ sung cần thêm vào như sau:\n",
        "*   **airports.csv**: Chứa thông tin về các chuyến bay khởi hành và chuyến bay đến\n",
        "*   **carriers.csv:** Chứa thông tin về hãng bay\n",
        "*   **plane-data.csv**: Chứa thông tin về máy bay\n"
      ],
      "metadata": {
        "id": "kqWodG732hVb"
      },
      "id": "kqWodG732hVb"
    },
    {
      "cell_type": "code",
      "source": [
        "airport_df = pd.read_csv(\"airports.csv\")\n",
        "cariers_df = pd.read_csv(\"carriers.csv\")\n",
        "plane_df = pd.read_csv(\"plane-data.csv\")"
      ],
      "metadata": {
        "id": "7_gylVtUG2zQ"
      },
      "id": "7_gylVtUG2zQ",
      "execution_count": 14,
      "outputs": []
    },
    {
      "cell_type": "markdown",
      "source": [
        "  Tên cột và hình dạng bảng dữ liệu"
      ],
      "metadata": {
        "id": "LJEdyqZUIE4L"
      },
      "id": "LJEdyqZUIE4L"
    },
    {
      "cell_type": "code",
      "source": [
        "airport_df.columns, airport_df.shape"
      ],
      "metadata": {
        "colab": {
          "base_uri": "https://localhost:8080/"
        },
        "id": "8oXWa6cUJdPF",
        "outputId": "40df46f3-da84-488a-bd65-f97651c42feb"
      },
      "id": "8oXWa6cUJdPF",
      "execution_count": 15,
      "outputs": [
        {
          "output_type": "execute_result",
          "data": {
            "text/plain": [
              "(Index(['iata', 'airport', 'city', 'state', 'country', 'lat', 'long'], dtype='object'),\n",
              " (3376, 7))"
            ]
          },
          "metadata": {},
          "execution_count": 15
        }
      ]
    }
  ],
  "metadata": {
    "kernelspec": {
      "display_name": "Python 3 (ipykernel)",
      "language": "python",
      "name": "python3"
    },
    "language_info": {
      "codemirror_mode": {
        "name": "ipython",
        "version": 3
      },
      "file_extension": ".py",
      "mimetype": "text/x-python",
      "name": "python",
      "nbconvert_exporter": "python",
      "pygments_lexer": "ipython3",
      "version": "3.9.12"
    },
    "colab": {
      "name": "Airline Time .ipynb",
      "provenance": [],
      "collapsed_sections": [],
      "include_colab_link": true
    }
  },
  "nbformat": 4,
  "nbformat_minor": 5
}